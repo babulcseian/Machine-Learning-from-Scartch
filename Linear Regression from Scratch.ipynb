{
 "cells": [
  {
   "cell_type": "markdown",
   "metadata": {},
   "source": [
    "## Generating Fake Data"
   ]
  },
  {
   "cell_type": "code",
   "execution_count": 9,
   "metadata": {},
   "outputs": [
    {
     "ename": "SyntaxError",
     "evalue": "invalid syntax (2514259648.py, line 3)",
     "output_type": "error",
     "traceback": [
      "\u001b[0;36m  File \u001b[0;32m\"/var/folders/0x/88y563mn28n7lfvhpln11vqw0000gn/T/ipykernel_15423/2514259648.py\"\u001b[0;36m, line \u001b[0;32m3\u001b[0m\n\u001b[0;31m    import scikit-learn as scl\u001b[0m\n\u001b[0m                 ^\u001b[0m\n\u001b[0;31mSyntaxError\u001b[0m\u001b[0;31m:\u001b[0m invalid syntax\n"
     ]
    }
   ],
   "source": [
    "from sklearn.datasets.samples_generator import make_regression\n",
    "X, y = make_regression(n_samples=200, n_features=1, n_informative=1, noise=6, bias=30, random_state=200)\n",
    "m = 200"
   ]
  },
  {
   "cell_type": "markdown",
   "metadata": {},
   "source": [
    "## Visualizing the Data"
   ]
  },
  {
   "cell_type": "code",
   "execution_count": 4,
   "metadata": {},
   "outputs": [
    {
     "ename": "NameError",
     "evalue": "name 'X' is not defined",
     "output_type": "error",
     "traceback": [
      "\u001b[0;31m---------------------------------------------------------------------------\u001b[0m",
      "\u001b[0;31mNameError\u001b[0m                                 Traceback (most recent call last)",
      "\u001b[0;32m/var/folders/0x/88y563mn28n7lfvhpln11vqw0000gn/T/ipykernel_15423/2449896579.py\u001b[0m in \u001b[0;36m<module>\u001b[0;34m\u001b[0m\n\u001b[1;32m      1\u001b[0m \u001b[0;32mfrom\u001b[0m \u001b[0mmatplotlib\u001b[0m \u001b[0;32mimport\u001b[0m \u001b[0mpyplot\u001b[0m \u001b[0;32mas\u001b[0m \u001b[0mplt\u001b[0m\u001b[0;34m\u001b[0m\u001b[0;34m\u001b[0m\u001b[0m\n\u001b[0;32m----> 2\u001b[0;31m \u001b[0mplt\u001b[0m\u001b[0;34m.\u001b[0m\u001b[0mscatter\u001b[0m\u001b[0;34m(\u001b[0m\u001b[0mX\u001b[0m\u001b[0;34m,\u001b[0m\u001b[0my\u001b[0m\u001b[0;34m,\u001b[0m \u001b[0mc\u001b[0m \u001b[0;34m=\u001b[0m \u001b[0;34m\"red\"\u001b[0m\u001b[0;34m,\u001b[0m\u001b[0malpha\u001b[0m\u001b[0;34m=\u001b[0m\u001b[0;36m.5\u001b[0m\u001b[0;34m,\u001b[0m \u001b[0mmarker\u001b[0m \u001b[0;34m=\u001b[0m \u001b[0;34m'o'\u001b[0m\u001b[0;34m)\u001b[0m\u001b[0;34m\u001b[0m\u001b[0;34m\u001b[0m\u001b[0m\n\u001b[0m\u001b[1;32m      3\u001b[0m \u001b[0mplt\u001b[0m\u001b[0;34m.\u001b[0m\u001b[0mxlabel\u001b[0m\u001b[0;34m(\u001b[0m\u001b[0;34m\"X\"\u001b[0m\u001b[0;34m)\u001b[0m\u001b[0;34m\u001b[0m\u001b[0;34m\u001b[0m\u001b[0m\n\u001b[1;32m      4\u001b[0m \u001b[0mplt\u001b[0m\u001b[0;34m.\u001b[0m\u001b[0mylabel\u001b[0m\u001b[0;34m(\u001b[0m\u001b[0;34m\"Y\"\u001b[0m\u001b[0;34m)\u001b[0m\u001b[0;34m\u001b[0m\u001b[0;34m\u001b[0m\u001b[0m\n\u001b[1;32m      5\u001b[0m \u001b[0mplt\u001b[0m\u001b[0;34m.\u001b[0m\u001b[0mshow\u001b[0m\u001b[0;34m(\u001b[0m\u001b[0;34m)\u001b[0m\u001b[0;34m\u001b[0m\u001b[0;34m\u001b[0m\u001b[0m\n",
      "\u001b[0;31mNameError\u001b[0m: name 'X' is not defined"
     ]
    }
   ],
   "source": [
    "from matplotlib import pyplot as plt\n",
    "plt.scatter(X,y, c = \"red\",alpha=.5, marker = 'o')\n",
    "plt.xlabel(\"X\")\n",
    "plt.ylabel(\"Y\")\n",
    "plt.show()"
   ]
  },
  {
   "cell_type": "markdown",
   "metadata": {},
   "source": [
    "## Linear Model"
   ]
  },
  {
   "cell_type": "code",
   "execution_count": 18,
   "metadata": {},
   "outputs": [],
   "source": [
    "import numpy as np\n",
    "def h(X,w):\n",
    "    return (w[1]*np.array(X[:,0])+w[0])"
   ]
  },
  {
   "cell_type": "markdown",
   "metadata": {},
   "source": [
    "## Cost Function"
   ]
  },
  {
   "cell_type": "code",
   "execution_count": 19,
   "metadata": {},
   "outputs": [],
   "source": [
    "def cost(w,X,y):\n",
    "    return (.5/m) * np.sum(np.square(h(X,w)-np.array(y)))"
   ]
  },
  {
   "cell_type": "markdown",
   "metadata": {},
   "source": [
    "## Gradient Descent "
   ]
  },
  {
   "cell_type": "code",
   "execution_count": 20,
   "metadata": {},
   "outputs": [],
   "source": [
    "def grad(w,X,y):\n",
    "    g = [0]*2\n",
    "    g[0] = (1/m) * np.sum(h(X,w)-np.array(y))\n",
    "    g[1] = (1/m) * np.sum((h(X,w)-np.array(y))*np.array(X[:,0]))\n",
    "    return g\n"
   ]
  },
  {
   "cell_type": "code",
   "execution_count": 21,
   "metadata": {},
   "outputs": [],
   "source": [
    "def descent(w_new, w_prev, lr):\n",
    "    print(w_prev)\n",
    "    print(cost(w_prev,X,y))\n",
    "    j=0\n",
    "    while True:\n",
    "        w_prev = w_new\n",
    "        w0 = w_prev[0] - lr*grad(w_prev,X,y)[0]\n",
    "        w1 = w_prev[1] - lr*grad(w_prev,X,y)[1]\n",
    "        w_new = [w0, w1]\n",
    "        print(w_new)\n",
    "        print(cost(w_new,X,y))\n",
    "        if (w_new[0]-w_prev[0])**2 + (w_new[1]-w_prev[1])**2 <= pow(10,-6):\n",
    "            return w_new\n",
    "        if j>500: \n",
    "            return w_new\n",
    "        j+=1    "
   ]
  },
  {
   "cell_type": "markdown",
   "metadata": {},
   "source": [
    "## Initializing Parameters"
   ]
  },
  {
   "cell_type": "code",
   "execution_count": 22,
   "metadata": {},
   "outputs": [],
   "source": [
    "w = [0,-1]"
   ]
  },
  {
   "cell_type": "markdown",
   "metadata": {},
   "source": [
    "## Training the Model"
   ]
  },
  {
   "cell_type": "code",
   "execution_count": 23,
   "metadata": {},
   "outputs": [
    {
     "name": "stdout",
     "output_type": "stream",
     "text": [
      "[0, -1]\n",
      "540.5360663843456\n",
      "[3.0956308633447547, 0.11442770988081663]\n",
      "437.91139336428444\n",
      "[5.873446610978822, 1.1023454281382854]\n",
      "355.5039050187037\n",
      "[8.366165526017987, 1.9778657783247602]\n",
      "289.3267499184995\n",
      "[10.603129563187093, 2.753547324958939]\n",
      "236.1799750745718\n",
      "[12.610653489037027, 3.440564026385428]\n",
      "193.49509649539323\n",
      "[14.412337853388406, 4.048856351454087]\n",
      "159.2103901995911\n",
      "[16.0293495446536, 4.587266032213945]\n",
      "131.6708284668908\n",
      "[17.480673291820082, 5.063656213710697]\n",
      "109.54778810165583\n",
      "[18.7833371265594, 5.485018573380515]\n",
      "91.77462156224563\n",
      "[19.952614505935692, 5.857568814053481]\n",
      "77.49495508304668\n",
      "[21.002205515744066, 6.186831784078626]\n",
      "66.02119816099949\n",
      "[21.944399323224108, 6.4777173436470505]\n",
      "56.801246289923824\n",
      "[22.79021982273288, 6.734587976310905]\n",
      "49.39175789964725\n",
      "[23.549556216205993, 6.961319037445921]\n",
      "43.436706577550574\n",
      "[24.23128008944935, 7.1613524356181975]\n",
      "38.6501664442448\n",
      "[24.843350383306017, 7.337744457271138]\n",
      "34.802494555336104\n",
      "[25.39290751357782, 7.493208368754656]\n",
      "31.709239459080347\n",
      "[25.88635776349851, 7.630152361500887]\n",
      "29.22223761683571\n",
      "[26.329448955986066, 7.750713345236864]\n",
      "27.22246575546644\n",
      "[26.727338308440384, 7.85678703973609]\n",
      "25.614302554322332\n",
      "[27.084653279240058, 7.950054767051352]\n",
      "24.320921533807876\n",
      "[27.405546131200424, 8.032007302818467]\n",
      "23.280591944370723\n",
      "[27.69374286207346, 8.10396610651881]\n",
      "22.443708530267372\n",
      "[27.952587084793493, 8.167102216040767]\n",
      "21.77040640846802\n",
      "[28.1850793797893, 8.222453061042739]\n",
      "21.22864568158778\n",
      "[28.393912587566714, 8.270937422096216]\n",
      "20.792673176173675\n",
      "[28.581503461264624, 8.313368738022628]\n",
      "20.44178697219165\n",
      "[28.75002105541824, 8.350466941915155]\n",
      "20.159344055135406\n",
      "[28.901412188203544, 8.382868986773879]\n",
      "19.93196319200716\n",
      "[29.03742427951789, 8.411138204226754]\n",
      "19.74888457866804\n",
      "[29.159625835953786, 8.435772624233959]\n",
      "19.601455387770752\n",
      "[29.2694248256702, 8.45721236977788]\n",
      "19.482716431969585\n",
      "[29.368085161021078, 8.475846228144906]\n",
      "19.387070041859424\n",
      "[29.45674148426251, 8.492017489347575]\n",
      "19.310013179228125\n",
      "[29.536412431457247, 8.506029132372674]\n",
      "19.24792295396926\n",
      "[29.60801253158606, 8.518148431144402]\n",
      "19.19788424005612\n",
      "[29.672362881642048, 8.528611044246796]\n",
      "19.157551114830053\n",
      "[29.73020072393229, 8.537624645454327]\n",
      "19.125035474814123\n",
      "[29.782188038766204, 8.545372145882025]\n",
      "19.09881748922257\n",
      "[29.828919254015993, 8.552014553005522]\n",
      "19.077673602614112\n",
      "[29.87092816255075, 8.557693506843796]\n",
      "19.06061864154971\n",
      "[29.90869412914744, 8.562533529178292]\n",
      "19.046859257450855\n",
      "[29.942647660055936, 8.566644017743355]\n",
      "19.035756481849372\n",
      "[29.97317540084111, 8.57012101381262]\n",
      "19.026795607153897\n",
      "[30.000624621352255, 8.573048768478005]\n",
      "19.019561957024997\n",
      "[30.025307240597662, 8.57550113013079]\n",
      "19.013721392385282\n",
      "[30.047503438857856, 8.577542773171217]\n",
      "19.009004625587373\n",
      "[30.067464899489234, 8.579230285760998]\n",
      "19.005194597236063\n",
      "[30.085417718492856, 8.580613132462974]\n",
      "19.00211631637512\n",
      "[30.101565015998244, 8.581734505857439]\n",
      "18.99962868224005\n",
      "[30.11608928029284, 8.582632079662158]\n",
      "18.99761790019706\n",
      "[30.12915447187187, 8.583338674491873]\n",
      "18.995992180371438\n",
      "[30.14090791215345, 8.583882846154577]\n",
      "18.994677468461337\n",
      "[30.151481978966018, 8.584289405279359]\n",
      "18.993614007260764\n",
      "[30.160995628639302, 8.58457987608947]\n",
      "18.99275356682987\n",
      "[30.169555762489143, 8.584772901261081]\n",
      "18.992057212939287\n",
      "[30.177258453655917, 8.584884599031389]\n",
      "18.991493508895633\n",
      "[30.184190048614877, 8.584928878028586]\n",
      "18.991037066345022\n",
      "[30.190428156204195, 8.584917714681556]\n",
      "18.99066737713041\n",
      "[30.196042535696083, 8.584861397520429]\n",
      "18.99036787153328\n",
      "[30.201095894251807, 8.584768742193141]\n",
      "18.990125158892102\n",
      "[30.205644603039065, 8.58464728059093]\n",
      "18.989928415168315\n",
      "[30.20973934033721, 8.584503427091704]\n",
      "18.98976888893204\n",
      "[30.21342566910097, 8.58434262458882]\n",
      "18.98963950279431\n",
      "[30.216744555686475, 8.584169472669567]\n",
      "18.989534531782173\n",
      "[30.219732835755565, 8.58398784003826]\n",
      "18.9894493437512\n",
      "[30.22242363275721, 8.583800963039536]\n",
      "18.989380189826502\n",
      "[30.22484673383125, 8.583611531925033]\n",
      "18.989324035195228\n",
      "[30.227028927482966, 8.583421766317985]\n",
      "18.989278422451623\n",
      "[30.228994306931416, 8.583233481162887]\n",
      "18.98924136120799\n",
      "[30.23076454263459, 8.583048144298838]\n",
      "18.98921123890338\n",
      "[30.23235912713573, 8.582866926663364]\n",
      "18.98918674872298\n",
      "[30.233795595053294, 8.582690746016727]\n",
      "18.98916683133221\n",
      "[30.235089720748128, 8.582520304973011]\n",
      "18.989150627766747\n",
      "[30.23625569594233, 8.582356124032495]\n",
      "18.98913744133326\n",
      "[30.237306289331627, 8.582198570228412]\n",
      "18.989126706789886\n",
      "[30.238252990024396, 8.582047881929046]\n",
      "18.98911796540923\n",
      "[30.238252990024396, 8.582047881929046]\n"
     ]
    }
   ],
   "source": [
    "w = descent(w,w,.1)\n",
    "print(w)"
   ]
  },
  {
   "cell_type": "markdown",
   "metadata": {},
   "source": [
    "## Visualizing the Result"
   ]
  },
  {
   "cell_type": "code",
   "execution_count": 24,
   "metadata": {},
   "outputs": [
    {
     "data": {
      "image/png": "[encoded data removed]",
      "text/plain": [
       "<Figure size 432x288 with 1 Axes>"
      ]
     },
     "metadata": {},
     "output_type": "display_data"
    }
   ],
   "source": [
    "def graph(formula, x_range):  \n",
    "    x = np.array(x_range)  \n",
    "    y = formula(x)  \n",
    "    plt.plot(x, y)  \n",
    "    \n",
    "def my_formula(x):\n",
    "    return w[0]+w[1]*x\n",
    "\n",
    "plt.scatter(X,y, c = \"red\",alpha=.5, marker = 'o')\n",
    "graph(my_formula, range(-5,5))\n",
    "plt.xlabel('X')\n",
    "plt.ylabel('Y')\n",
    "plt.show()"
   ]
  }
 ],
 "metadata": {
  "kernelspec": {
   "display_name": "Python 3 (ipykernel)",
   "language": "python",
   "name": "python3"
  },
  "language_info": {
   "codemirror_mode": {
    "name": "ipython",
    "version": 3
   },
   "file_extension": ".py",
   "mimetype": "text/x-python",
   "name": "python",
   "nbconvert_exporter": "python",
   "pygments_lexer": "ipython3",
   "version": "3.9.13"
  }
 },
 "nbformat": 4,
 "nbformat_minor": 2
}
